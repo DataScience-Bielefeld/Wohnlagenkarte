{
 "cells": [
  {
   "cell_type": "code",
   "execution_count": 19,
   "metadata": {},
   "outputs": [
    {
     "name": "stdout",
     "output_type": "stream",
     "text": [
      "26\n"
     ]
    },
    {
     "data": {
      "text/html": [
       "<div style=\"width:100%;\"><div style=\"position:relative;width:100%;height:0;padding-bottom:60%;\"><iframe src=\"data:text/html;charset=utf-8;base64,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\" style=\"position:absolute;width:100%;height:100%;left:0;top:0;border:none !important;\" allowfullscreen webkitallowfullscreen mozallowfullscreen></iframe></div></div>"
      ],
      "text/plain": [
       "<folium.folium.Map at 0x187f608ab00>"
      ]
     },
     "execution_count": 19,
     "metadata": {},
     "output_type": "execute_result"
    }
   ],
   "source": [
    "import folium\n",
    "from folium.plugins import HeatMap\n",
    "import overpy\n",
    "\n",
    "NY_COORDINATES =(52.022915, 8.528429)\n",
    "\n",
    "my_map = folium.Map(location=NY_COORDINATES, tiles= \"Stamen Toner\", zoom_start=12)\n",
    "\n",
    "# BB Bielefeld: node(51.58094, 8.25457, 52.03187, 8.37570);\n",
    "myApi = overpy.Overpass()\n",
    "ice_creams = myApi.query(\"\"\"node[\"addr:city\"=\"Bielefeld\"][\"amenity\"=\"ice_cream\"];out body;\"\"\")\n",
    "kindergardens = myApi.query(\"\"\"node[\"addr:city\"=\"Bielefeld\"][\"amenity\"=\"kindergarten\"];out body;\"\"\")\n",
    "print(len(ice_creams.nodes))\n",
    "\n",
    "#tags = {'addr:city': 'Bielefeld', 'addr:country': 'DE', 'addr:housenumber': '38', 'addr:postcode': '33615', 'addr:street': 'Stapenhorststraße', 'amenity': 'ice_cream', 'food': 'yes', 'indoor_seating': 'yes', 'internet_access': 'no', 'name': 'Eiscafe Venezia', 'note:de': 'im Winter geschlossen', 'opening_hours': 'Mo-Sa 10:00-22:00; Su 11:00-22:00', 'outdoor_seating': 'yes', 'toilets:wheelchair': 'no', 'wheelchair': 'yes', 'wheelchair:description': 'alles ebenerdig, aber Toilette sehr eng ...'}\n",
    "\n",
    "#ice_cream_markers = [folium.Marker([ice.lat, ice.lon], popup='Eisdiele', tooltip=r\"\"\"<p>{name}<br/>{strasse} {nr}<br/>{stadt}</p>\"\"\"\n",
    "#                           .format(name=ice.tags[\"name\"],strasse=ice.tags[\"addr:street\"],\n",
    "#                                   nr=ice.tags[\"addr:housenumber\"],stadt=ice.tags[\"addr:city\"])).add_to(my_map) for ice in ice_creams.nodes]\n",
    "#kindergarden_markers = [folium.Marker([kg.lat, kg.lon], popup='Kindergarten', tooltip=r\"\"\"<p>Kindergarten<br/>{strasse} {nr}<br/>{stadt}</p>\"\"\"\n",
    "#                           .format(strasse=kg.tags[\"addr:street\"],\n",
    "#                                   nr=kg.tags[\"addr:housenumber\"],stadt=kg.tags[\"addr:city\"]), icon=folium.Icon(color='red')).add_to(my_map) for kg in kindergardens.nodes]\n",
    "\n",
    "ice_data = [[float(ice.lat), float(ice.lon)] for ice in ice_creams.nodes]\n",
    "kg_data = [[float(kg.lat), float(kg.lon)] for kg in kindergardens.nodes]\n",
    "hm_ice = HeatMap(ice_data)\n",
    "hm_kg = HeatMap(kg_data)\n",
    "hm_ice.add_to(my_map)\n",
    "hm_kg.add_to(my_map)\n",
    "\n",
    "my_map"
   ]
  }
 ],
 "metadata": {
  "kernelspec": {
   "display_name": "Python 3",
   "language": "python",
   "name": "python3"
  },
  "language_info": {
   "codemirror_mode": {
    "name": "ipython",
    "version": 3
   },
   "file_extension": ".py",
   "mimetype": "text/x-python",
   "name": "python",
   "nbconvert_exporter": "python",
   "pygments_lexer": "ipython3",
   "version": "3.7.0"
  }
 },
 "nbformat": 4,
 "nbformat_minor": 2
}
